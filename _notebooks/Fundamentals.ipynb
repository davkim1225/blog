{
 "cells": [
  {
   "cell_type": "markdown",
   "metadata": {},
   "source": [
    "### Strings"
   ]
  },
  {
   "cell_type": "code",
   "execution_count": null,
   "metadata": {},
   "outputs": [],
   "source": [
    "message = 'Hello World'\n",
    "\n",
    "len(message)\n",
    "\n",
    "first_char = message[0]\n",
    "hello = message[:5]  # slcing details:\n",
    "\n",
    "# not inplace\n",
    "message.lower()\n",
    "message.upper()\n",
    "message.count('o')\n",
    "message.count('Hello')\n",
    "message.find('l')  # first instance\n",
    "message.find('World')  # first word\n",
    "message.find('Universe')  # -1\n",
    "message = message.replace('l', 'r')\n",
    "\n",
    "# 3 ways of string formatting\n",
    "\n",
    "print(dir(message))\n",
    "print(help(str))\n",
    "print(help(str.lower))"
   ]
  },
  {
   "cell_type": "markdown",
   "metadata": {},
   "source": [
    "### Numbers"
   ]
  },
  {
   "cell_type": "code",
   "execution_count": null,
   "metadata": {},
   "outputs": [],
   "source": [
    "num = 3 // 2  # 1.5 -> 1 (floor division)\n",
    "\n",
    "abs(num)\n",
    "round(num, 2)\n",
    "\n",
    "int('100')"
   ]
  },
  {
   "cell_type": "markdown",
   "metadata": {},
   "source": [
    "### Lists"
   ]
  },
  {
   "cell_type": "code",
   "execution_count": null,
   "metadata": {},
   "outputs": [],
   "source": [
    "courses = ['History', 'English', 'Mathematics', 'Science']\n",
    "\n",
    "# list slicing\n",
    "\n",
    "# inplace methods\n",
    "courses.append('Art')\n",
    "courses.insert(-1, 'Computer Science')  # in front of ...\n",
    "courses.extend(['Physical Education', 'Media Literacy'])\n",
    "courses.remove('Mathematics')\n",
    "courses.reverse()\n",
    "courses.sort()  # alphabetical\n",
    "courses = sorted(courses)  # non-inplace\n",
    "courses.sort(reverse=True)\n",
    "courses.index('Computer Science')\n",
    "\n",
    "nums = [3, 2, 5, 1, 6]\n",
    "nums.sort()  # [1, 2, 3, 4, 5]\n",
    "min(nums)\n",
    "max(nums)\n",
    "sum(nums)\n",
    "\n",
    "for index, course in enumerate(courses, 1):  # start at 1st index\n",
    "    print(f'{index}: {course}')\n",
    "    \n",
    "'Mathematics' in courses\n",
    "popped = courses.pop()  # last value\n",
    "course_str = ' - '.join(courses)\n",
    "courses = course_str.split( - )"
   ]
  }
 ],
 "metadata": {
  "kernelspec": {
   "display_name": "Python 3",
   "language": "python",
   "name": "python3"
  },
  "language_info": {
   "codemirror_mode": {
    "name": "ipython",
    "version": 3
   },
   "file_extension": ".py",
   "mimetype": "text/x-python",
   "name": "python",
   "nbconvert_exporter": "python",
   "pygments_lexer": "ipython3",
   "version": "3.8.6"
  }
 },
 "nbformat": 4,
 "nbformat_minor": 4
}
